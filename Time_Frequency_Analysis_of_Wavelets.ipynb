{
  "nbformat": 4,
  "nbformat_minor": 0,
  "metadata": {
    "colab": {
      "provenance": [],
      "authorship_tag": "ABX9TyOoKu+1+NcA9SwXVB0SfYKs",
      "include_colab_link": true
    },
    "kernelspec": {
      "name": "python3",
      "display_name": "Python 3"
    },
    "language_info": {
      "name": "python"
    }
  },
  "cells": [
    {
      "cell_type": "markdown",
      "metadata": {
        "id": "view-in-github",
        "colab_type": "text"
      },
      "source": [
        "<a href=\"https://colab.research.google.com/github/FahimS45/Python_mini_projects/blob/master/Time_Frequency_Analysis_of_Wavelets.ipynb\" target=\"_parent\"><img src=\"https://colab.research.google.com/assets/colab-badge.svg\" alt=\"Open In Colab\"/></a>"
      ]
    },
    {
      "cell_type": "markdown",
      "source": [
        "# **A Project Regarding Time-Frequency Analysis of EEG data**"
      ],
      "metadata": {
        "id": "pyqtQHbQ4HE2"
      }
    },
    {
      "cell_type": "code",
      "execution_count": null,
      "metadata": {
        "id": "KKkQ0f0433jB"
      },
      "outputs": [],
      "source": [
        "# Importing all necessary modules\n",
        "import numpy as np\n",
        "import matplotlib.pyplot as plt\n",
        "from scipy.io import loadmat"
      ]
    },
    {
      "cell_type": "markdown",
      "source": [
        "# **Creating real and complex Morlet wavelets**\n",
        "\n",
        "**Real Morlet Wavelets**"
      ],
      "metadata": {
        "id": "8o1k3JwU4wkS"
      }
    },
    {
      "cell_type": "code",
      "source": [
        "# Functions to create Real wavelets\n",
        "def createRealWavelet(time,freq,fwhm):\n",
        "  # time = time for wavelet, should be zero-centered\n",
        "  # freq = peak frequency for wavelet\n",
        "  # fwhm = full-width at half-maximum in seconds\n",
        "  sinepart = np.cos(2*np.pi*freq*time)\n",
        "  # sinepart(t) = cos(2πft)\n",
        "  gauspart = np.exp( (-4*np.log(2)*time**2)/(fwhm**2) )\n",
        "  # gauspart(t) = e^(-(4ln(2)t^2) / (σ^2))\n",
        "  return sinepart*gauspart"
      ],
      "metadata": {
        "id": "xtyvJv6243_R"
      },
      "execution_count": null,
      "outputs": []
    },
    {
      "cell_type": "code",
      "source": [
        "# Parameters\n",
        "freq  = 5 # Hz\n",
        "fwhm  = .5\n",
        "srate = 500 # Hz #sampling rate\n",
        "time  = np.arange(-2*srate,2*srate)/srate\n",
        "npnts = len(time) # number of time points\n",
        "\n",
        "# Creating one wavelet and visualizing in time and in frequency domains\n",
        "wavelet = createRealWavelet(time,freq,fwhm)\n",
        "\n",
        "hz = np.linspace(0,srate/2,int(npnts/2))\n",
        "# An array of frequency values from 0 to half of the sampling rate (srate/2), evenly spaced.\n",
        "\n",
        "waveletX = abs(np.fft.fft(wavelet)/npnts)**2\n",
        "# The power spectrum of the wavelet."
      ],
      "metadata": {
        "id": "t1tT7v7B6H5O"
      },
      "execution_count": null,
      "outputs": []
    },
    {
      "cell_type": "code",
      "source": [
        "# Setting-up the figure\n",
        "fig,ax = plt.subplots(1,2,figsize=(15,5))\n",
        "\n",
        "# Time-domain version\n",
        "ax[0].plot(time,wavelet,'k')\n",
        "ax[0].set_xlabel('Time (s)')\n",
        "ax[0].set_ylabel('Amplitude (a.u.)')\n",
        "ax[0].set_title('Time domain')\n",
        "\n",
        "# Frequency-domain version\n",
        "ax[1].stem(hz,waveletX[:len(hz)],'k',use_line_collection=True)\n",
        "ax[1].plot(hz,waveletX[:len(hz)],'m')\n",
        "ax[1].set_xlim([0,20])\n",
        "ax[1].set_xlabel('Time (s)')\n",
        "ax[1].set_ylabel('Amplitude (a.u.)')\n",
        "ax[1].set_title('Frequency domain')\n",
        "\n",
        "plt.show()"
      ],
      "metadata": {
        "id": "JYNBZHUJ7fp-"
      },
      "execution_count": null,
      "outputs": []
    },
    {
      "cell_type": "markdown",
      "source": [
        "**Complex-valued Morlet wavelets**"
      ],
      "metadata": {
        "id": "qzUSxrFs8Qzv"
      }
    },
    {
      "cell_type": "code",
      "source": [
        "# Function to create Complex wavelets\n",
        "def createComplexWavelet(time,freq,fwhm):\n",
        "  sinepart = np.exp( 1j*2*np.pi*freq*time )\n",
        "  gauspart = np.exp( (-4*np.log(2)*time**2)/(fwhm**2) )\n",
        "  return sinepart*gauspart"
      ],
      "metadata": {
        "id": "gsh-HAgs8Vn_"
      },
      "execution_count": null,
      "outputs": []
    },
    {
      "cell_type": "code",
      "source": [
        "# Creating a complex Morlet wavelet\n",
        "wavelet = createComplexWavelet(time,5,1)\n",
        "\n",
        "# Plotting using matplotlib\n",
        "fig = plt.subplots(1,figsize=(15,8))\n",
        "plt.plot(time,np.real(wavelet),label='Real part')\n",
        "plt.plot(time,np.imag(wavelet),label='Imaginary part')\n",
        "plt.plot(time,np.abs(wavelet),'k',label='Magnitude')\n",
        "\n",
        "plt.xlabel('Time (s)')\n",
        "plt.legend(fontsize=19)\n",
        "plt.show()"
      ],
      "metadata": {
        "id": "bPH1twyt9Hbx"
      },
      "execution_count": null,
      "outputs": []
    },
    {
      "cell_type": "code",
      "source": [
        "# Plotting its magnitude and phase using matplotlib\n",
        "fig = plt.subplots(1,figsize=(15,8))\n",
        "plt.plot(time,np.angle(wavelet),label='Phase')\n",
        "plt.plot(time,np.abs(wavelet),'k',label='Magnitude')\n",
        "\n",
        "plt.xlabel('Time (s)')\n",
        "plt.ylabel('Angle (rad.) or amplitude (a.u.)')\n",
        "plt.legend()\n",
        "plt.show()"
      ],
      "metadata": {
        "id": "Uerg4kHg9acr"
      },
      "execution_count": null,
      "outputs": []
    },
    {
      "cell_type": "markdown",
      "source": [
        "# **Let's create a wavelet family**"
      ],
      "metadata": {
        "id": "iFDX8_3t9-4p"
      }
    },
    {
      "cell_type": "code",
      "source": [
        "# Parameters\n",
        "nfrex  =   40\n",
        "# number of frequency values we want in the range between lofreq and hifreq\n",
        "\n",
        "lofreq =    2   # Hz\n",
        "hifreq =   80   # Hz\n",
        "\n",
        "frex   = np.linspace(lofreq,hifreq,nfrex)\n",
        "print(frex)\n",
        "fwhms  = np.linspace(4,1,nfrex)\n",
        "print(fwhms)"
      ],
      "metadata": {
        "id": "tpbxv9h4-JKr"
      },
      "execution_count": null,
      "outputs": []
    },
    {
      "cell_type": "code",
      "source": [
        "# Creating a family of wavelets\n",
        "waveletfam = np.zeros((nfrex,npnts),dtype=complex)\n",
        "print(waveletfam)\n",
        "print(npnts)\n",
        "\n",
        "for wi in range(nfrex):\n",
        "  waveletfam[wi,:] = createComplexWavelet(time,frex[wi],fwhms[wi])\n",
        "print(waveletfam)"
      ],
      "metadata": {
        "id": "jSYlhuna-cm9"
      },
      "execution_count": null,
      "outputs": []
    },
    {
      "cell_type": "code",
      "source": [
        "# Setting-up the figure\n",
        "fig,ax = plt.subplots(1,3,figsize=(15,5))\n",
        "\n",
        "# Showing the real part\n",
        "ax[0].imshow(np.real(waveletfam),\n",
        "             aspect='auto',origin='lower',\n",
        "             extent=[time[0],time[-1],lofreq,hifreq],\n",
        "             vmin=-.8,vmax=.8)\n",
        "# The extent parameter in imshow is used to define the range of values for\n",
        "# the x-axis and y-axis of the plot. It takes a list or tuple of\n",
        "# four values: [x_min, x_max, y_min, y_max].\n",
        "\n",
        "ax[0].set_xlabel('Time (s)')\n",
        "ax[0].set_ylabel('Frequency (Hz)')\n",
        "ax[0].set_title('Real part')\n",
        "\n",
        "# Showing the angles\n",
        "ax[1].imshow(np.angle(waveletfam),\n",
        "             aspect='auto',origin='lower',\n",
        "             extent=[time[0],time[-1],lofreq,hifreq])\n",
        "\n",
        "ax[1].set_xlabel('Time (s)')\n",
        "ax[1].set_ylabel('Frequency (Hz)')\n",
        "ax[1].set_title('Phase')\n",
        "\n",
        "\n",
        "# Showing the magnitudes\n",
        "ax[2].imshow(np.abs(waveletfam),\n",
        "             aspect='auto',origin='lower',\n",
        "             extent=[time[0],time[-1],lofreq,hifreq])\n",
        "\n",
        "ax[2].set_xlabel('Time (s)')\n",
        "ax[2].set_ylabel('Frequency (Hz)')\n",
        "ax[2].set_title('Magnitude')\n",
        "\n",
        "\n",
        "plt.show()"
      ],
      "metadata": {
        "id": "BypP0VXw-gaJ"
      },
      "execution_count": null,
      "outputs": []
    },
    {
      "cell_type": "markdown",
      "source": [
        "# **Importing the EEG data from a local drive**"
      ],
      "metadata": {
        "id": "Es_ylMw4_m4R"
      }
    },
    {
      "cell_type": "code",
      "source": [
        "from google.colab import files\n",
        "uploaded = files.upload()"
      ],
      "metadata": {
        "id": "7kV1Ura1_scl"
      },
      "execution_count": null,
      "outputs": []
    },
    {
      "cell_type": "code",
      "source": [
        "# Importing the data to python\n",
        "from scipy.io import loadmat\n",
        "EEG = loadmat('sampleEEGdata.mat')\n",
        "#print(EEG)\n",
        "\n",
        "# Extracting the necessary information\n",
        "times = np.squeeze(EEG['EEG'][0][0][14])\n",
        "# np.squeeze is used to remove any extra dimensions from the extracted data.\n",
        "\n",
        "data  = EEG['EEG'][0][0][15]\n",
        "fs    = EEG['EEG'][0][0][11][0][0].astype(int) # sampling rate\n",
        "\n",
        "print(fs)\n",
        "print(np.shape(data)) # The size of the data array along each dimension."
      ],
      "metadata": {
        "id": "f7jmKon7_weP"
      },
      "execution_count": null,
      "outputs": []
    },
    {
      "cell_type": "code",
      "source": [
        "# computing Event-Related Potential (ERP)\n",
        "\n",
        "erp = np.mean(data,axis=2)[46,:]\n",
        "# Computes the mean along the third axis\n",
        "# This results in an array where each element represents\n",
        "# the average value across trials for a specific time point.\n",
        "\n",
        "# Plotting trial-averaged response usning matplotlib\n",
        "plt.plot(times,erp)\n",
        "plt.xlim([-200,1000])\n",
        "plt.xlabel('Time (ms)')\n",
        "plt.ylabel('Voltage ($\\mu V$)')\n",
        "plt.title('ERP from channel 47')\n",
        "plt.show()"
      ],
      "metadata": {
        "id": "MxA10Z3sABcj"
      },
      "execution_count": null,
      "outputs": []
    }
  ]
}