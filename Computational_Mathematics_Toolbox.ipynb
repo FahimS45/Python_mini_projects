{
  "nbformat": 4,
  "nbformat_minor": 0,
  "metadata": {
    "colab": {
      "provenance": [],
      "authorship_tag": "ABX9TyPRrq3ozjB1kmH50+GdvouV",
      "include_colab_link": true
    },
    "kernelspec": {
      "name": "python3",
      "display_name": "Python 3"
    },
    "language_info": {
      "name": "python"
    }
  },
  "cells": [
    {
      "cell_type": "markdown",
      "metadata": {
        "id": "view-in-github",
        "colab_type": "text"
      },
      "source": [
        "<a href=\"https://colab.research.google.com/github/FahimS45/Python_mini_projects/blob/master/Computational_Mathematics_Toolbox.ipynb\" target=\"_parent\"><img src=\"https://colab.research.google.com/assets/colab-badge.svg\" alt=\"Open In Colab\"/></a>"
      ]
    },
    {
      "cell_type": "markdown",
      "source": [
        "# **A Project on different Mathematical concepts**"
      ],
      "metadata": {
        "id": "7IC4i8zJGkX2"
      }
    },
    {
      "cell_type": "code",
      "execution_count": null,
      "metadata": {
        "id": "ymW3lADCGI_U"
      },
      "outputs": [],
      "source": [
        "# Importing all necessary modules\n",
        "import numpy as np\n",
        "import matplotlib.pyplot as plt\n",
        "import math"
      ]
    },
    {
      "cell_type": "markdown",
      "source": [
        "**Pascal's triangle**"
      ],
      "metadata": {
        "id": "ziuQDRkWGzph"
      }
    },
    {
      "cell_type": "code",
      "source": [
        "def nChooseK(n,k):\n",
        "  num = math.factorial(n)\n",
        "  den = math.factorial(k) * math.factorial(n-k)\n",
        "\n",
        "  return num/den"
      ],
      "metadata": {
        "id": "UH-w5ZayGzEH"
      },
      "execution_count": null,
      "outputs": []
    },
    {
      "cell_type": "code",
      "source": [
        "n = 6\n",
        "\n",
        "PT = np.zeros((n,n),dtype=int)\n",
        "\n",
        "for i in range(n):\n",
        "  for j in range(i+1):\n",
        "    PT[i,j] = nChooseK(i,j)\n",
        "\n",
        "plt.imshow(PT)\n",
        "plt.show()\n",
        "print(PT)"
      ],
      "metadata": {
        "id": "6i4X_BaeIbNG"
      },
      "execution_count": null,
      "outputs": []
    },
    {
      "cell_type": "code",
      "source": [
        "for i in range(n):\n",
        "  tmp = PT[i,:]\n",
        "  tmp = tmp[tmp!=0]\n",
        "  print(' '*(n-i) + np.array2string(tmp)[1:-1])"
      ],
      "metadata": {
        "id": "u2mHmO-RIjDG"
      },
      "execution_count": null,
      "outputs": []
    },
    {
      "cell_type": "markdown",
      "source": [
        "**Euler's identity**"
      ],
      "metadata": {
        "id": "QYbfQIgJIoge"
      }
    },
    {
      "cell_type": "code",
      "source": [
        "m = 4.3\n",
        "p = np.pi/4\n",
        "\n",
        "# Euler notation\n",
        "euler = m * np.exp(1j*p)\n",
        "\n",
        "# Rectangular notation\n",
        "rect = m * (np.cos(p) + 1j*np.sin(p))\n",
        "\n",
        "# Printing that they are the same\n",
        "print(euler)\n",
        "print(rect)"
      ],
      "metadata": {
        "id": "DQX59fWQIlle"
      },
      "execution_count": null,
      "outputs": []
    }
  ]
}