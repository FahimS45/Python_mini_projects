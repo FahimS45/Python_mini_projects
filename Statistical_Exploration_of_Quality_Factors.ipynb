{
  "nbformat": 4,
  "nbformat_minor": 0,
  "metadata": {
    "colab": {
      "provenance": [],
      "authorship_tag": "ABX9TyNuynAQdiQV+86m9jSqALa+",
      "include_colab_link": true
    },
    "kernelspec": {
      "name": "python3",
      "display_name": "Python 3"
    },
    "language_info": {
      "name": "python"
    }
  },
  "cells": [
    {
      "cell_type": "markdown",
      "metadata": {
        "id": "view-in-github",
        "colab_type": "text"
      },
      "source": [
        "<a href=\"https://colab.research.google.com/github/FahimS45/Python_mini_projects/blob/master/Statistical_Exploration_of_Quality_Factors.ipynb\" target=\"_parent\"><img src=\"https://colab.research.google.com/assets/colab-badge.svg\" alt=\"Open In Colab\"/></a>"
      ]
    },
    {
      "cell_type": "markdown",
      "source": [
        "# **A Statistical project regarding the analysis of Wine Quality**"
      ],
      "metadata": {
        "id": "31ooorQWj8ji"
      }
    },
    {
      "cell_type": "code",
      "execution_count": null,
      "metadata": {
        "id": "BThPTjxEiP9H"
      },
      "outputs": [],
      "source": [
        "# Importing all necessary modules\n",
        "import numpy as np\n",
        "import matplotlib.pyplot as plt\n",
        "import pandas as pd\n",
        "import seaborn as sns\n",
        "import scipy.stats as stats"
      ]
    },
    {
      "cell_type": "code",
      "source": [
        "# Downloading the \"Wine Quality\" dataset from UC Irvine Machine Learning Repository\n",
        "url = \"https://archive.ics.uci.edu/ml/machine-learning-databases/wine-quality/winequality-red.csv\"\n",
        "\n",
        "# Inspection\n",
        "data = pd.read_csv(url, sep=';')\n",
        "\n",
        "# print(data)"
      ],
      "metadata": {
        "id": "GjLD-qVMiyz-"
      },
      "execution_count": null,
      "outputs": []
    },
    {
      "cell_type": "markdown",
      "source": [
        "# **Descriptive Statistics**"
      ],
      "metadata": {
        "id": "K2rdiCilmO1a"
      }
    },
    {
      "cell_type": "code",
      "source": [
        "# Describing the data\n",
        "data.describe()"
      ],
      "metadata": {
        "id": "oxMrkE7dlMSO"
      },
      "execution_count": null,
      "outputs": []
    },
    {
      "cell_type": "code",
      "source": [
        "# List number of unique values per column\n",
        "for i in data.keys():\n",
        "  print(f\"{i} has {len(np.unique(data[i]))} unique values\")"
      ],
      "metadata": {
        "id": "RNPZPndrlq_K"
      },
      "execution_count": null,
      "outputs": []
    },
    {
      "cell_type": "code",
      "source": [
        "# Ploting some data using matplotlib and seaborn\n",
        "fig,ax = plt.subplots(1,figsize=(17,4))\n",
        "ax = sns.boxplot(data=data)\n",
        "ax.set_xticklabels(ax.get_xticklabels(),rotation=45)\n",
        "plt.show()"
      ],
      "metadata": {
        "id": "siikqgd2mcNm"
      },
      "execution_count": null,
      "outputs": []
    },
    {
      "cell_type": "code",
      "source": [
        "# Removing rows with outliers\n",
        "data = data[data['total sulfur dioxide']<200]\n",
        "\n",
        "fig,ax = plt.subplots(1,figsize=(17,4))\n",
        "ax = sns.boxplot(data=data)\n",
        "ax.set_xticklabels(ax.get_xticklabels(),rotation=45)\n",
        "plt.show()"
      ],
      "metadata": {
        "id": "cLa_69vwmtsF"
      },
      "execution_count": null,
      "outputs": []
    },
    {
      "cell_type": "code",
      "source": [
        "# Some exploration\n",
        "sns.scatterplot(x=data['residual sugar'],y=data['alcohol'])\n",
        "plt.show()\n",
        "\n",
        "# Pairwise plots\n",
        "cols2plot = ['fixed acidity','volatile acidity','citric acid','quality']\n",
        "sns.pairplot(data[cols2plot],kind='reg',hue='quality')\n",
        "plt.show()"
      ],
      "metadata": {
        "id": "nsfRpxcsm_Jf"
      },
      "execution_count": null,
      "outputs": []
    },
    {
      "cell_type": "markdown",
      "source": [
        "# **Conducting T-test**"
      ],
      "metadata": {
        "id": "tWFItM5Pnbeo"
      }
    },
    {
      "cell_type": "code",
      "source": [
        "# T-test of volatile acidity on quality=3 vs. 8\n",
        "\n",
        "x = data['volatile acidity'][data['quality']==3]\n",
        "y = data['volatile acidity'][data['quality']==8]\n",
        "ttest = stats.ttest_ind(x,y)\n",
        "\n",
        "# Showing the data in a plot\n",
        "plt.plot(np.random.randn(len(x))/30,x,'o', 1+np.random.randn(len(y))/30,y, 'o')\n",
        "# Some random number is generated to add small amount of random noise\n",
        "# The purpose of adding random numbers is to prevent overlapping of data points with identical or very close values.\n",
        "\n",
        "plt.xlim([-1,2])\n",
        "plt.xticks([0,1],labels=['Qual 3','Qual 8'])\n",
        "plt.title(f't={ttest[0]:.2f}, p={ttest[1]:.5f}')\n",
        "# t = t-value; p = p-value(probability)\n",
        "plt.ylabel('volatile acidity')\n",
        "plt.show()"
      ],
      "metadata": {
        "id": "7vBHUQWeniry"
      },
      "execution_count": null,
      "outputs": []
    },
    {
      "cell_type": "code",
      "source": [
        "qualcounts = np.zeros(6)\n",
        "\n",
        "# Gathering counts\n",
        "n = 0\n",
        "for i in range(3,9):\n",
        "  qualcounts[n] = len( data[data['quality']==i] )\n",
        "  n += 1\n",
        "\n",
        "# Showing in a bar plot\n",
        "plt.bar(range(3,9), qualcounts)\n",
        "plt.xlabel('Quality rating')\n",
        "plt.ylabel('Count')\n",
        "plt.show()"
      ],
      "metadata": {
        "id": "dIzjozdcoNjQ"
      },
      "execution_count": null,
      "outputs": []
    },
    {
      "cell_type": "code",
      "source": [
        "# T-test of volatile acidity on quality=3/4 vs. 7/8\n",
        "\n",
        "x = data['volatile acidity'][(data['quality']==3) | (data['quality']==4)]\n",
        "y = data['volatile acidity'][(data['quality']==7) | (data['quality']==8)]\n",
        "ttest = stats.ttest_ind(x,y )\n",
        "\n",
        "plt.plot(np.random.randn(len(x))/30,x,'o',\n",
        "         1+np.random.randn(len(y))/30,y, 'o',markeredgecolor='k')\n",
        "plt.xlim([-1,2])\n",
        "plt.xticks([0,1],labels=['Qual 3+4','Qual 7+8'])\n",
        "plt.title(f't={ttest[0]:.2f}, p={ttest[1]:.5f}')\n",
        "plt.ylabel('volatile acidity')\n",
        "plt.show()\n"
      ],
      "metadata": {
        "id": "P_R6Iw90omu-"
      },
      "execution_count": null,
      "outputs": []
    },
    {
      "cell_type": "markdown",
      "source": [
        "# **Regression Analysis**\n",
        "\n",
        "***Multiple regression***"
      ],
      "metadata": {
        "id": "iZEdNEuNo1tz"
      }
    },
    {
      "cell_type": "code",
      "source": [
        "import statsmodels.api as sm"
      ],
      "metadata": {
        "id": "apYJskPforHZ"
      },
      "execution_count": null,
      "outputs": []
    },
    {
      "cell_type": "code",
      "source": [
        "# Predicting quality from all other columns\n",
        "\n",
        "dep_var  = data['quality']\n",
        "ind_vars = data.drop(labels='quality',axis=1)\n",
        "\n",
        "# Setting up model\n",
        "ind_vars = sm.add_constant(ind_vars) # Adding an intercept term\n",
        "model = sm.OLS(dep_var,ind_vars).fit()\n",
        "\n",
        "# Showing the summary\n",
        "print(model.summary())"
      ],
      "metadata": {
        "id": "EVHH8K8Zpp_T"
      },
      "execution_count": null,
      "outputs": []
    },
    {
      "cell_type": "code",
      "source": [
        "# Finding the Significant Column\n",
        "significant_columns = list(model.pvalues[model.pvalues<.05].keys())\n",
        "[print(i) for i in significant_columns]\n",
        "significant_columns.append('quality')\n",
        "\n",
        "# Pairwise plots just for significant effects\n",
        "sns.pairplot(data[significant_columns],kind='reg',hue='quality')\n",
        "plt.show()"
      ],
      "metadata": {
        "id": "gTY9lr57p_1m"
      },
      "execution_count": null,
      "outputs": []
    }
  ]
}