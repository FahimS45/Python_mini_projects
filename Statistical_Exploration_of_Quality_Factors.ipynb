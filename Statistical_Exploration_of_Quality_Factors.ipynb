{
  "nbformat": 4,
  "nbformat_minor": 0,
  "metadata": {
    "colab": {
      "provenance": [],
      "authorship_tag": "ABX9TyPl3eQcn1cM8XRKFpOysm3U",
      "include_colab_link": true
    },
    "kernelspec": {
      "name": "python3",
      "display_name": "Python 3"
    },
    "language_info": {
      "name": "python"
    }
  },
  "cells": [
    {
      "cell_type": "markdown",
      "metadata": {
        "id": "view-in-github",
        "colab_type": "text"
      },
      "source": [
        "<a href=\"https://colab.research.google.com/github/FahimS45/Python_mini_projects/blob/master/Statistical_Exploration_of_Quality_Factors.ipynb\" target=\"_parent\"><img src=\"https://colab.research.google.com/assets/colab-badge.svg\" alt=\"Open In Colab\"/></a>"
      ]
    },
    {
      "cell_type": "markdown",
      "source": [
        "# **A Statistical project regarding the analysis of Wine Quality**"
      ],
      "metadata": {
        "id": "31ooorQWj8ji"
      }
    },
    {
      "cell_type": "code",
      "execution_count": null,
      "metadata": {
        "id": "BThPTjxEiP9H"
      },
      "outputs": [],
      "source": [
        "# Importing all necessary modules\n",
        "import numpy as np\n",
        "import matplotlib.pyplot as plt\n",
        "import pandas as pd\n",
        "import seaborn as sns\n",
        "import scipy.stats as stats"
      ]
    },
    {
      "cell_type": "code",
      "source": [
        "# Downloading the \"Wine Quality\" dataset from UC Irvine Machine Learning Repository\n",
        "url = \"https://archive.ics.uci.edu/ml/machine-learning-databases/wine-quality/winequality-red.csv\"\n",
        "\n",
        "# Inspection\n",
        "data = pd.read_csv(url, sep=';')\n",
        "# ';' is a delimiter which is used to separate values in each row\n",
        "# print(data)"
      ],
      "metadata": {
        "id": "GjLD-qVMiyz-"
      },
      "execution_count": null,
      "outputs": []
    },
    {
      "cell_type": "code",
      "source": [],
      "metadata": {
        "id": "oxMrkE7dlMSO"
      },
      "execution_count": null,
      "outputs": []
    }
  ]
}