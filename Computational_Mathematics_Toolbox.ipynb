{
  "nbformat": 4,
  "nbformat_minor": 0,
  "metadata": {
    "colab": {
      "provenance": [],
      "authorship_tag": "ABX9TyNWPS8XqKJwngLwPmKCkEf+",
      "include_colab_link": true
    },
    "kernelspec": {
      "name": "python3",
      "display_name": "Python 3"
    },
    "language_info": {
      "name": "python"
    }
  },
  "cells": [
    {
      "cell_type": "markdown",
      "metadata": {
        "id": "view-in-github",
        "colab_type": "text"
      },
      "source": [
        "<a href=\"https://colab.research.google.com/github/FahimS45/Python_mini_projects/blob/master/Computational_Mathematics_Toolbox.ipynb\" target=\"_parent\"><img src=\"https://colab.research.google.com/assets/colab-badge.svg\" alt=\"Open In Colab\"/></a>"
      ]
    },
    {
      "cell_type": "markdown",
      "source": [
        "# **A Project on different Mathematical concepts**"
      ],
      "metadata": {
        "id": "7IC4i8zJGkX2"
      }
    },
    {
      "cell_type": "code",
      "execution_count": null,
      "metadata": {
        "id": "ymW3lADCGI_U"
      },
      "outputs": [],
      "source": [
        "# Importing all necessary modules\n",
        "import numpy as np\n",
        "import matplotlib.pyplot as plt\n",
        "import math"
      ]
    },
    {
      "cell_type": "markdown",
      "source": [
        "**Pascal's triangle**"
      ],
      "metadata": {
        "id": "ziuQDRkWGzph"
      }
    },
    {
      "cell_type": "code",
      "source": [
        "def nChooseK(n,k):\n",
        "  num = math.factorial(n)\n",
        "  den = math.factorial(k) * math.factorial(n-k)\n",
        "\n",
        "  return num/den"
      ],
      "metadata": {
        "id": "UH-w5ZayGzEH"
      },
      "execution_count": null,
      "outputs": []
    },
    {
      "cell_type": "code",
      "source": [
        "n = 6\n",
        "\n",
        "PT = np.zeros((n,n),dtype=int)\n",
        "\n",
        "for i in range(n):\n",
        "  for j in range(i+1):\n",
        "    PT[i,j] = nChooseK(i,j)\n",
        "\n",
        "plt.imshow(PT)\n",
        "plt.show()\n",
        "print(PT)"
      ],
      "metadata": {
        "id": "6i4X_BaeIbNG"
      },
      "execution_count": null,
      "outputs": []
    },
    {
      "cell_type": "code",
      "source": [
        "for i in range(n):\n",
        "  tmp = PT[i,:]\n",
        "  tmp = tmp[tmp!=0]\n",
        "  print(' '*(n-i) + np.array2string(tmp)[1:-1])"
      ],
      "metadata": {
        "id": "u2mHmO-RIjDG"
      },
      "execution_count": null,
      "outputs": []
    },
    {
      "cell_type": "markdown",
      "source": [
        "**Euler's identity**"
      ],
      "metadata": {
        "id": "QYbfQIgJIoge"
      }
    },
    {
      "cell_type": "code",
      "source": [
        "m = 4.3\n",
        "p = np.pi/4\n",
        "\n",
        "# Euler notation\n",
        "euler = m * np.exp(1j*p)\n",
        "\n",
        "# Rectangular notation\n",
        "rect = m * (np.cos(p) + 1j*np.sin(p))\n",
        "\n",
        "# Printing that they are the same\n",
        "print(euler)\n",
        "print(rect)"
      ],
      "metadata": {
        "id": "DQX59fWQIlle"
      },
      "execution_count": null,
      "outputs": []
    },
    {
      "cell_type": "code",
      "source": [
        "# In a graph\n",
        "\n",
        "radius = np.abs(euler)\n",
        "theta  = np.angle(euler)\n",
        "plt.polar(theta,radius,'k+',label='Extracted')\n",
        "\n",
        "plt.plot(np.real(euler),np.imag(euler),'ro',label='Euler')\n",
        "plt.plot(0,.5,'bo')\n",
        "plt.show()\n"
      ],
      "metadata": {
        "id": "gJ9jnGx7JXN0"
      },
      "execution_count": null,
      "outputs": []
    },
    {
      "cell_type": "code",
      "source": [
        "fig = plt.figure()\n",
        "\n",
        "m = 1.3\n",
        "p = np.pi*.65\n",
        "\n",
        "euler = m * np.exp(1j*p)\n",
        "radius = np.abs(euler)\n",
        "theta  = np.angle(euler)\n",
        "\n",
        "# Setting-up figure\n",
        "ax_cart = fig.add_axes([.1,.1,.8,.8])\n",
        "ax_polr = fig.add_axes([.1,.1,.8,.8],polar=True,frameon=False)\n",
        "\n",
        "# Drawing plots\n",
        "ax_polr.plot(theta,radius,'k+',markersize=15)\n",
        "ax_cart.plot(np.real(euler),np.imag(euler),'ro',markersize=15)\n",
        "\n",
        "### Adjusting the plot\n",
        "\n",
        "# Getting radius of polar plot\n",
        "r = ax_polr.get_rmax()\n",
        "print(r)\n",
        "\n",
        "ax_cart.set_xlim([-r,r])\n",
        "ax_cart.set_ylim([-r,r])\n",
        "ax_cart.set_aspect(1./ax_cart.get_data_ratio())\n",
        "ax_cart.set_xlabel('Real')\n",
        "ax_cart.set_ylabel('Imag')\n",
        "\n",
        "plt.show()"
      ],
      "metadata": {
        "id": "9qWbytODJsgK"
      },
      "execution_count": null,
      "outputs": []
    },
    {
      "cell_type": "markdown",
      "source": [
        "**Fully parameterized Gaussian**"
      ],
      "metadata": {
        "id": "oHdRhpmTJxun"
      }
    },
    {
      "cell_type": "code",
      "source": [
        "x = np.linspace(-10,10,1001)\n",
        "\n",
        "def makeGauss(amp,s,offset=0):\n",
        "  return amp/(s*np.sqrt(2*np.pi)) * np.exp( -(x-offset)**2 / (2*s**2))"
      ],
      "metadata": {
        "id": "UZSadT_XJzg4"
      },
      "execution_count": null,
      "outputs": []
    },
    {
      "cell_type": "code",
      "source": [
        "plt.plot(x,makeGauss(2,2,5))\n",
        "plt.plot(x,makeGauss(2,2))\n",
        "plt.plot(x,makeGauss(2,1,1))\n",
        "plt.plot(x,makeGauss(1,2,1))\n",
        "\n",
        "plt.xlabel('x')\n",
        "plt.ylabel('g(x)')\n",
        "plt.show()"
      ],
      "metadata": {
        "id": "Mod9M3sBJ3Db"
      },
      "execution_count": null,
      "outputs": []
    },
    {
      "cell_type": "code",
      "source": [
        "amps = np.linspace(.1,5,50)\n",
        "\n",
        "G = np.zeros((len(amps),len(x)))\n",
        "\n",
        "for a in range(len(amps)):\n",
        "  G[a,:] = makeGauss(amps[a],2)\n",
        "\n",
        "plt.imshow(G,aspect='auto',extent=[x[0],x[-1],amps[-1],amps[0]])\n",
        "plt.imshow(G,aspect='auto',extent=[x[0],x[-1],amps[0],amps[-1]],origin='lower')\n",
        "plt.xlabel('X (time?)')\n",
        "plt.ylabel('Amplitude')\n",
        "plt.title('Varying a')\n",
        "plt.show()"
      ],
      "metadata": {
        "id": "J3ZX-EbVJ7Ad"
      },
      "execution_count": null,
      "outputs": []
    },
    {
      "cell_type": "code",
      "source": [
        "offsets = np.linspace(-1,3,50)\n",
        "\n",
        "G = np.zeros((len(offsets),len(x)))\n",
        "\n",
        "for a in range(len(offsets)):\n",
        "  G[a,:] = makeGauss(1,2,offsets[a])\n",
        "\n",
        "plt.imshow(G,aspect='auto',extent=[x[0],x[-1],offsets[0],offsets[-1]],origin='lower')\n",
        "plt.xlabel('X (time?)')\n",
        "plt.ylabel('Offset')\n",
        "plt.title('Varying $\\\\tau$')\n",
        "plt.show()"
      ],
      "metadata": {
        "id": "advGrGKdJ78B"
      },
      "execution_count": null,
      "outputs": []
    },
    {
      "cell_type": "code",
      "source": [
        "sds = np.linspace(.1,5,50)\n",
        "\n",
        "G = np.zeros((len(sds),len(x)))\n",
        "\n",
        "for a in range(len(sds)):\n",
        "  G[a,:] = makeGauss(1,sds[a])\n",
        "\n",
        "plt.imshow(G,aspect='auto',extent=[x[0],x[-1],amps[0],amps[-1]],\n",
        "           vmin=0,vmax=.5,origin='lower')\n",
        "plt.xlabel('X (time?)')\n",
        "plt.ylabel('Width')\n",
        "plt.title('Varying $\\\\sigma$')\n",
        "plt.show()"
      ],
      "metadata": {
        "id": "wnkB9XaPKSN7"
      },
      "execution_count": null,
      "outputs": []
    },
    {
      "cell_type": "markdown",
      "source": [
        "**Time dilation in special relativity**"
      ],
      "metadata": {
        "id": "ymbGHKH7KWNB"
      }
    },
    {
      "cell_type": "code",
      "source": [
        "# Speed of light (mps)\n",
        "c = 299792458\n",
        "\n",
        "timedil = lambda v : 1 / np.sqrt(1-(v**2/c**2))\n"
      ],
      "metadata": {
        "id": "sF2ZexjMKTkK"
      },
      "execution_count": null,
      "outputs": []
    },
    {
      "cell_type": "code",
      "source": [
        "# Some speeds:\n",
        "kph = np.zeros(6)\n",
        "\n",
        "kph[0] = 100     # Car on highway\n",
        "kph[1] = 200     # Crazy people on the German autobahn\n",
        "kph[2] = 900     # Airplane\n",
        "kph[3] = 11300   # Satellite\n",
        "kph[4] = 107991  # Earth around the sun\n",
        "kph[5] = 828000  # Solar system around galaxy\n",
        "\n",
        "labels = ['car','autobahn','plane','satellite','Earth','Solar system']"
      ],
      "metadata": {
        "id": "lDdLoeSOKjFh"
      },
      "execution_count": null,
      "outputs": []
    },
    {
      "cell_type": "code",
      "source": [
        "td = np.zeros(len(kph))\n",
        "\n",
        "for i in range(len(kph)):\n",
        "\n",
        "    # Converting to m/s\n",
        "    v = kph[i]*1000/(60*60)\n",
        "\n",
        "    # Computing time dilation\n",
        "    td[i] = timedil(v)\n",
        "\n",
        "print(td)"
      ],
      "metadata": {
        "id": "-xxNbcWpKoCo"
      },
      "execution_count": null,
      "outputs": []
    },
    {
      "cell_type": "code",
      "source": [
        "plt.bar(range(len(td)),td)\n",
        "plt.xticks(ticks=range(len(td)),labels=labels,rotation=45)\n",
        "plt.ylim([.9999999, 1.0000005])\n",
        "plt.ylabel('Time dilation')\n",
        "plt.show()"
      ],
      "metadata": {
        "id": "xZSmlM7YK1P7"
      },
      "execution_count": null,
      "outputs": []
    },
    {
      "cell_type": "markdown",
      "source": [
        "**Complex eigenvalues**"
      ],
      "metadata": {
        "id": "0J4OGXpiK3wd"
      }
    },
    {
      "cell_type": "code",
      "source": [
        "# Matrix size\n",
        "n = 15\n",
        "\n",
        "# Setting-up figure\n",
        "fig,ax = plt.subplots(1,2,figsize=(12,5))\n",
        "\n",
        "mags = []\n",
        "for i in range(100):\n",
        "  L = np.linalg.eig(np.random.randn(n,n)/np.sqrt(n))[0]\n",
        "  mags = np.concatenate((mags,np.abs(L)))\n",
        "  ax[0].plot(np.real(L),np.imag(L),'o')\n",
        "\n",
        "\n",
        "ax[0].set_xlim(-1.5,1.5)\n",
        "ax[0].set_ylim(-1.5,1.5)\n",
        "ax[0].set_xlabel('real')\n",
        "ax[0].set_ylabel('imag')\n",
        "ax[0].set_title('Eigenvalues in the complex plane')\n",
        "\n",
        "mags.sort()\n",
        "ax[1].plot(mags[::-1],'o')\n",
        "ax[1].set_title('Sorted eigenvalue magnitudes')\n",
        "ax[1].set_xlabel('Matrix/eigenvalue number')\n",
        "plt.show()"
      ],
      "metadata": {
        "id": "t0KUU9B9K5Gf"
      },
      "execution_count": null,
      "outputs": []
    }
  ]
}