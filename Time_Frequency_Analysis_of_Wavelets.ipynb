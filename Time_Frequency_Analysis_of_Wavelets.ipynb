{
  "nbformat": 4,
  "nbformat_minor": 0,
  "metadata": {
    "colab": {
      "provenance": [],
      "authorship_tag": "ABX9TyPtrvIiy5/bbcHfw6Y/da9d",
      "include_colab_link": true
    },
    "kernelspec": {
      "name": "python3",
      "display_name": "Python 3"
    },
    "language_info": {
      "name": "python"
    }
  },
  "cells": [
    {
      "cell_type": "markdown",
      "metadata": {
        "id": "view-in-github",
        "colab_type": "text"
      },
      "source": [
        "<a href=\"https://colab.research.google.com/github/FahimS45/Python_mini_projects/blob/master/Time_Frequency_Analysis_of_Wavelets.ipynb\" target=\"_parent\"><img src=\"https://colab.research.google.com/assets/colab-badge.svg\" alt=\"Open In Colab\"/></a>"
      ]
    },
    {
      "cell_type": "markdown",
      "source": [
        "# **A Project Regarding Time-Frequency Analysis of EEG data**"
      ],
      "metadata": {
        "id": "pyqtQHbQ4HE2"
      }
    },
    {
      "cell_type": "markdown",
      "source": [
        "**Time-Frequency Analysis:**\n",
        "\n",
        "Time-frequency analysis is a method used to analyze signals in both the time and frequency domains simultaneously. It provides a way to examine how the frequency content of a signal changes over time. This is particularly useful for analyzing non-stationary signals, where the frequency components of the signal vary over time."
      ],
      "metadata": {
        "id": "qDEn2WsQD8WN"
      }
    },
    {
      "cell_type": "code",
      "execution_count": null,
      "metadata": {
        "id": "KKkQ0f0433jB"
      },
      "outputs": [],
      "source": [
        "# Importing all necessary modules\n",
        "import numpy as np\n",
        "import matplotlib.pyplot as plt\n",
        "from scipy.io import loadmat"
      ]
    },
    {
      "cell_type": "markdown",
      "source": [
        "# **Creating real and complex Morlet wavelets**\n",
        "\n",
        "**Real Morlet Wavelets:**\n",
        "\n",
        "Think of the real Morlet wavelet as a symmetric wave shape. It is a smooth and continuous waveform that starts from zero, increases to a peak, and then decreases back to zero. It has a bell-shaped curve. The real Morlet wavelet is useful for detecting different patterns or oscillations in a signal. It helps us understand if there are specific frequencies or rhythmic patterns present in the signal. For example, it can help identify brainwave patterns like alpha, beta, theta, or gamma rhythms."
      ],
      "metadata": {
        "id": "8o1k3JwU4wkS"
      }
    },
    {
      "cell_type": "code",
      "source": [
        "# Functions to create Real wavelets\n",
        "def createRealWavelet(time,freq,fwhm):\n",
        "  # time = time for wavelet, should be zero-centered\n",
        "  # freq = peak frequency for wavelet\n",
        "  # fwhm = full-width at half-maximum in seconds\n",
        "  sinepart = np.cos(2*np.pi*freq*time)\n",
        "  # sinepart(t) = cos(2πft)\n",
        "  gauspart = np.exp( (-4*np.log(2)*time**2)/(fwhm**2) )\n",
        "  # gauspart(t) = e^(-(4ln(2)t^2) / (σ^2))\n",
        "  return sinepart*gauspart"
      ],
      "metadata": {
        "id": "xtyvJv6243_R"
      },
      "execution_count": null,
      "outputs": []
    },
    {
      "cell_type": "code",
      "source": [
        "# Parameters\n",
        "freq  = 5 # Hz\n",
        "fwhm  = .5\n",
        "srate = 500 # Hz #sampling rate\n",
        "time  = np.arange(-2*srate,2*srate)/srate\n",
        "npnts = len(time) # number of time points\n",
        "\n",
        "# Creating one wavelet and visualizing in time and in frequency domains\n",
        "wavelet = createRealWavelet(time,freq,fwhm)\n",
        "\n",
        "hz = np.linspace(0,srate/2,int(npnts/2))\n",
        "# An array of frequency values from 0 to half of the sampling rate (srate/2), evenly spaced.\n",
        "\n",
        "waveletX = abs(np.fft.fft(wavelet)/npnts)**2\n",
        "# The power spectrum of the wavelet."
      ],
      "metadata": {
        "id": "t1tT7v7B6H5O"
      },
      "execution_count": null,
      "outputs": []
    },
    {
      "cell_type": "code",
      "source": [
        "# Setting-up the figure\n",
        "fig,ax = plt.subplots(1,2,figsize=(15,5))\n",
        "\n",
        "# Time-domain version\n",
        "ax[0].plot(time,wavelet,'k')\n",
        "ax[0].set_xlabel('Time (s)')\n",
        "ax[0].set_ylabel('Amplitude (a.u.)')\n",
        "ax[0].set_title('Time domain')\n",
        "\n",
        "# Frequency-domain version\n",
        "ax[1].stem(hz,waveletX[:len(hz)],'k',use_line_collection=True)\n",
        "ax[1].plot(hz,waveletX[:len(hz)],'m')\n",
        "ax[1].set_xlim([0,20])\n",
        "ax[1].set_xlabel('Time (s)')\n",
        "ax[1].set_ylabel('Amplitude (a.u.)')\n",
        "ax[1].set_title('Frequency domain')\n",
        "\n",
        "plt.show()"
      ],
      "metadata": {
        "id": "JYNBZHUJ7fp-"
      },
      "execution_count": null,
      "outputs": []
    },
    {
      "cell_type": "markdown",
      "source": [
        "**Complex-valued Morlet wavelets:**\n",
        "\n",
        "The complex Morlet wavelet is a more advanced version of the Morlet wavelet. It also has the shape of a bell-shaped curve, but it includes both real and imaginary parts. The real part of the complex Morlet wavelet gives us information about the amplitude or strength of the signal at different frequencies. The imaginary part tells us about the phase or timing of the signal at those frequencies. Phase information helps us understand the relationships between different frequencies in a signal."
      ],
      "metadata": {
        "id": "qzUSxrFs8Qzv"
      }
    },
    {
      "cell_type": "code",
      "source": [
        "# Function to create Complex wavelets\n",
        "def createComplexWavelet(time,freq,fwhm):\n",
        "  sinepart = np.exp( 1j*2*np.pi*freq*time )\n",
        "  gauspart = np.exp( (-4*np.log(2)*time**2)/(fwhm**2) )\n",
        "  return sinepart*gauspart"
      ],
      "metadata": {
        "id": "gsh-HAgs8Vn_"
      },
      "execution_count": null,
      "outputs": []
    },
    {
      "cell_type": "code",
      "source": [
        "# Creating a complex Morlet wavelet\n",
        "wavelet = createComplexWavelet(time,5,1)\n",
        "\n",
        "# Plotting using matplotlib\n",
        "fig = plt.subplots(1,figsize=(15,8))\n",
        "plt.plot(time,np.real(wavelet),label='Real part')\n",
        "plt.plot(time,np.imag(wavelet),label='Imaginary part')\n",
        "plt.plot(time,np.abs(wavelet),'k',label='Magnitude')\n",
        "\n",
        "plt.xlabel('Time (s)')\n",
        "plt.legend(fontsize=19)\n",
        "plt.show()"
      ],
      "metadata": {
        "id": "bPH1twyt9Hbx"
      },
      "execution_count": null,
      "outputs": []
    },
    {
      "cell_type": "code",
      "source": [
        "# Plotting its magnitude and phase using matplotlib\n",
        "fig = plt.subplots(1,figsize=(15,8))\n",
        "plt.plot(time,np.angle(wavelet),label='Phase')\n",
        "plt.plot(time,np.abs(wavelet),'k',label='Magnitude')\n",
        "\n",
        "plt.xlabel('Time (s)')\n",
        "plt.ylabel('Angle (rad.) or amplitude (a.u.)')\n",
        "plt.legend()\n",
        "plt.show()"
      ],
      "metadata": {
        "id": "Uerg4kHg9acr"
      },
      "execution_count": null,
      "outputs": []
    },
    {
      "cell_type": "markdown",
      "source": [
        "# **Let's create a wavelet family**"
      ],
      "metadata": {
        "id": "iFDX8_3t9-4p"
      }
    },
    {
      "cell_type": "code",
      "source": [
        "# Parameters\n",
        "nfrex  =   40\n",
        "# number of frequency values we want in the range between lofreq and hifreq\n",
        "\n",
        "lofreq =    2   # Hz\n",
        "hifreq =   80   # Hz\n",
        "\n",
        "frex   = np.linspace(lofreq,hifreq,nfrex)\n",
        "print(frex)\n",
        "fwhms  = np.linspace(4,1,nfrex)\n",
        "print(fwhms)"
      ],
      "metadata": {
        "id": "tpbxv9h4-JKr"
      },
      "execution_count": null,
      "outputs": []
    },
    {
      "cell_type": "code",
      "source": [
        "# Creating a family of wavelets\n",
        "waveletfam = np.zeros((nfrex,npnts),dtype=complex)\n",
        "print(waveletfam)\n",
        "print(npnts)\n",
        "\n",
        "for wi in range(nfrex):\n",
        "  waveletfam[wi,:] = createComplexWavelet(time,frex[wi],fwhms[wi])\n",
        "print(waveletfam)"
      ],
      "metadata": {
        "id": "jSYlhuna-cm9"
      },
      "execution_count": null,
      "outputs": []
    },
    {
      "cell_type": "code",
      "source": [
        "# Setting-up the figure\n",
        "fig,ax = plt.subplots(1,3,figsize=(15,5))\n",
        "\n",
        "# Showing the real part\n",
        "ax[0].imshow(np.real(waveletfam),\n",
        "             aspect='auto',origin='lower',\n",
        "             extent=[time[0],time[-1],lofreq,hifreq],\n",
        "             vmin=-.8,vmax=.8)\n",
        "# The extent parameter in imshow is used to define the range of values for\n",
        "# the x-axis and y-axis of the plot. It takes a list or tuple of\n",
        "# four values: [x_min, x_max, y_min, y_max].\n",
        "\n",
        "ax[0].set_xlabel('Time (s)')\n",
        "ax[0].set_ylabel('Frequency (Hz)')\n",
        "ax[0].set_title('Real part')\n",
        "\n",
        "# Showing the angles\n",
        "ax[1].imshow(np.angle(waveletfam),\n",
        "             aspect='auto',origin='lower',\n",
        "             extent=[time[0],time[-1],lofreq,hifreq])\n",
        "\n",
        "ax[1].set_xlabel('Time (s)')\n",
        "ax[1].set_ylabel('Frequency (Hz)')\n",
        "ax[1].set_title('Phase')\n",
        "\n",
        "\n",
        "# Showing the magnitudes\n",
        "ax[2].imshow(np.abs(waveletfam),\n",
        "             aspect='auto',origin='lower',\n",
        "             extent=[time[0],time[-1],lofreq,hifreq])\n",
        "\n",
        "ax[2].set_xlabel('Time (s)')\n",
        "ax[2].set_ylabel('Frequency (Hz)')\n",
        "ax[2].set_title('Magnitude')\n",
        "\n",
        "\n",
        "plt.show()"
      ],
      "metadata": {
        "id": "BypP0VXw-gaJ"
      },
      "execution_count": null,
      "outputs": []
    },
    {
      "cell_type": "markdown",
      "source": [
        "# **Importing the EEG data from a local drive**"
      ],
      "metadata": {
        "id": "Es_ylMw4_m4R"
      }
    },
    {
      "cell_type": "code",
      "source": [
        "from google.colab import files\n",
        "uploaded = files.upload()"
      ],
      "metadata": {
        "colab": {
          "base_uri": "https://localhost:8080/",
          "height": 37
        },
        "id": "7kV1Ura1_scl",
        "outputId": "e46a583f-97e5-4409-e3fa-0321a9017626"
      },
      "execution_count": null,
      "outputs": [
        {
          "data": {
            "text/html": [
              "\n",
              "     <input type=\"file\" id=\"files-6afc1a64-5d70-417f-9e6f-7964ead91058\" name=\"files[]\" multiple disabled\n",
              "        style=\"border:none\" />\n",
              "     <output id=\"result-6afc1a64-5d70-417f-9e6f-7964ead91058\">\n",
              "      Upload widget is only available when the cell has been executed in the\n",
              "      current browser session. Please rerun this cell to enable.\n",
              "      </output>\n",
              "      <script>// Copyright 2017 Google LLC\n",
              "//\n",
              "// Licensed under the Apache License, Version 2.0 (the \"License\");\n",
              "// you may not use this file except in compliance with the License.\n",
              "// You may obtain a copy of the License at\n",
              "//\n",
              "//      http://www.apache.org/licenses/LICENSE-2.0\n",
              "//\n",
              "// Unless required by applicable law or agreed to in writing, software\n",
              "// distributed under the License is distributed on an \"AS IS\" BASIS,\n",
              "// WITHOUT WARRANTIES OR CONDITIONS OF ANY KIND, either express or implied.\n",
              "// See the License for the specific language governing permissions and\n",
              "// limitations under the License.\n",
              "\n",
              "/**\n",
              " * @fileoverview Helpers for google.colab Python module.\n",
              " */\n",
              "(function(scope) {\n",
              "function span(text, styleAttributes = {}) {\n",
              "  const element = document.createElement('span');\n",
              "  element.textContent = text;\n",
              "  for (const key of Object.keys(styleAttributes)) {\n",
              "    element.style[key] = styleAttributes[key];\n",
              "  }\n",
              "  return element;\n",
              "}\n",
              "\n",
              "// Max number of bytes which will be uploaded at a time.\n",
              "const MAX_PAYLOAD_SIZE = 100 * 1024;\n",
              "\n",
              "function _uploadFiles(inputId, outputId) {\n",
              "  const steps = uploadFilesStep(inputId, outputId);\n",
              "  const outputElement = document.getElementById(outputId);\n",
              "  // Cache steps on the outputElement to make it available for the next call\n",
              "  // to uploadFilesContinue from Python.\n",
              "  outputElement.steps = steps;\n",
              "\n",
              "  return _uploadFilesContinue(outputId);\n",
              "}\n",
              "\n",
              "// This is roughly an async generator (not supported in the browser yet),\n",
              "// where there are multiple asynchronous steps and the Python side is going\n",
              "// to poll for completion of each step.\n",
              "// This uses a Promise to block the python side on completion of each step,\n",
              "// then passes the result of the previous step as the input to the next step.\n",
              "function _uploadFilesContinue(outputId) {\n",
              "  const outputElement = document.getElementById(outputId);\n",
              "  const steps = outputElement.steps;\n",
              "\n",
              "  const next = steps.next(outputElement.lastPromiseValue);\n",
              "  return Promise.resolve(next.value.promise).then((value) => {\n",
              "    // Cache the last promise value to make it available to the next\n",
              "    // step of the generator.\n",
              "    outputElement.lastPromiseValue = value;\n",
              "    return next.value.response;\n",
              "  });\n",
              "}\n",
              "\n",
              "/**\n",
              " * Generator function which is called between each async step of the upload\n",
              " * process.\n",
              " * @param {string} inputId Element ID of the input file picker element.\n",
              " * @param {string} outputId Element ID of the output display.\n",
              " * @return {!Iterable<!Object>} Iterable of next steps.\n",
              " */\n",
              "function* uploadFilesStep(inputId, outputId) {\n",
              "  const inputElement = document.getElementById(inputId);\n",
              "  inputElement.disabled = false;\n",
              "\n",
              "  const outputElement = document.getElementById(outputId);\n",
              "  outputElement.innerHTML = '';\n",
              "\n",
              "  const pickedPromise = new Promise((resolve) => {\n",
              "    inputElement.addEventListener('change', (e) => {\n",
              "      resolve(e.target.files);\n",
              "    });\n",
              "  });\n",
              "\n",
              "  const cancel = document.createElement('button');\n",
              "  inputElement.parentElement.appendChild(cancel);\n",
              "  cancel.textContent = 'Cancel upload';\n",
              "  const cancelPromise = new Promise((resolve) => {\n",
              "    cancel.onclick = () => {\n",
              "      resolve(null);\n",
              "    };\n",
              "  });\n",
              "\n",
              "  // Wait for the user to pick the files.\n",
              "  const files = yield {\n",
              "    promise: Promise.race([pickedPromise, cancelPromise]),\n",
              "    response: {\n",
              "      action: 'starting',\n",
              "    }\n",
              "  };\n",
              "\n",
              "  cancel.remove();\n",
              "\n",
              "  // Disable the input element since further picks are not allowed.\n",
              "  inputElement.disabled = true;\n",
              "\n",
              "  if (!files) {\n",
              "    return {\n",
              "      response: {\n",
              "        action: 'complete',\n",
              "      }\n",
              "    };\n",
              "  }\n",
              "\n",
              "  for (const file of files) {\n",
              "    const li = document.createElement('li');\n",
              "    li.append(span(file.name, {fontWeight: 'bold'}));\n",
              "    li.append(span(\n",
              "        `(${file.type || 'n/a'}) - ${file.size} bytes, ` +\n",
              "        `last modified: ${\n",
              "            file.lastModifiedDate ? file.lastModifiedDate.toLocaleDateString() :\n",
              "                                    'n/a'} - `));\n",
              "    const percent = span('0% done');\n",
              "    li.appendChild(percent);\n",
              "\n",
              "    outputElement.appendChild(li);\n",
              "\n",
              "    const fileDataPromise = new Promise((resolve) => {\n",
              "      const reader = new FileReader();\n",
              "      reader.onload = (e) => {\n",
              "        resolve(e.target.result);\n",
              "      };\n",
              "      reader.readAsArrayBuffer(file);\n",
              "    });\n",
              "    // Wait for the data to be ready.\n",
              "    let fileData = yield {\n",
              "      promise: fileDataPromise,\n",
              "      response: {\n",
              "        action: 'continue',\n",
              "      }\n",
              "    };\n",
              "\n",
              "    // Use a chunked sending to avoid message size limits. See b/62115660.\n",
              "    let position = 0;\n",
              "    do {\n",
              "      const length = Math.min(fileData.byteLength - position, MAX_PAYLOAD_SIZE);\n",
              "      const chunk = new Uint8Array(fileData, position, length);\n",
              "      position += length;\n",
              "\n",
              "      const base64 = btoa(String.fromCharCode.apply(null, chunk));\n",
              "      yield {\n",
              "        response: {\n",
              "          action: 'append',\n",
              "          file: file.name,\n",
              "          data: base64,\n",
              "        },\n",
              "      };\n",
              "\n",
              "      let percentDone = fileData.byteLength === 0 ?\n",
              "          100 :\n",
              "          Math.round((position / fileData.byteLength) * 100);\n",
              "      percent.textContent = `${percentDone}% done`;\n",
              "\n",
              "    } while (position < fileData.byteLength);\n",
              "  }\n",
              "\n",
              "  // All done.\n",
              "  yield {\n",
              "    response: {\n",
              "      action: 'complete',\n",
              "    }\n",
              "  };\n",
              "}\n",
              "\n",
              "scope.google = scope.google || {};\n",
              "scope.google.colab = scope.google.colab || {};\n",
              "scope.google.colab._files = {\n",
              "  _uploadFiles,\n",
              "  _uploadFilesContinue,\n",
              "};\n",
              "})(self);\n",
              "</script> "
            ],
            "text/plain": [
              "<IPython.core.display.HTML object>"
            ]
          },
          "metadata": {},
          "output_type": "display_data"
        }
      ]
    },
    {
      "cell_type": "code",
      "source": [
        "# Importing the data to python\n",
        "from scipy.io import loadmat\n",
        "EEG = loadmat('sampleEEGdata.mat')\n",
        "#print(EEG)\n",
        "\n",
        "# Extracting the necessary information\n",
        "times = np.squeeze(EEG['EEG'][0][0][14])\n",
        "# np.squeeze is used to remove any extra dimensions from the extracted data.\n",
        "\n",
        "data  = EEG['EEG'][0][0][15]\n",
        "fs    = EEG['EEG'][0][0][11][0][0].astype(int) # sampling rate\n",
        "\n",
        "print(fs)\n",
        "print(np.shape(data)) # The size of the data array along each dimension."
      ],
      "metadata": {
        "id": "f7jmKon7_weP"
      },
      "execution_count": null,
      "outputs": []
    },
    {
      "cell_type": "code",
      "source": [
        "# Computing Event-Related Potential (ERP)\n",
        "erp = np.mean(data,axis=2)[46,:]\n",
        "# Computes the mean along the third axis\n",
        "# This results in an array where each element represents\n",
        "# the average value across trials for a specific time point.\n",
        "\n",
        "# Plotting trial-averaged response usning matplotlib\n",
        "plt.plot(times,erp)\n",
        "plt.xlim([-200,1000])\n",
        "plt.xlabel('Time (ms)')\n",
        "plt.ylabel('Voltage ($\\mu V$)')\n",
        "plt.title('ERP from channel 47')\n",
        "plt.show()"
      ],
      "metadata": {
        "id": "MxA10Z3sABcj"
      },
      "execution_count": null,
      "outputs": []
    },
    {
      "cell_type": "markdown",
      "source": [
        "# **Wavelet Convolution**\n",
        "\n",
        "- Wavelet convolution is a mathematical operation that involves convolving a wavelet function with a signal or data. It is commonly used in time-frequency analysis to analyze and extract information from signals that vary in both time and frequency domains.\n",
        "\n",
        "- The process of wavelet convolution involves sliding the wavelet function across the signal, multiplying the wavelet function by the corresponding portion of the signal at each position, and summing up the results. This process is repeated for different positions of the wavelet function to obtain a time-varying representation of the signal's frequency content.\n",
        "\n"
      ],
      "metadata": {
        "id": "daUUUZNeBMDw"
      }
    },
    {
      "cell_type": "code",
      "source": [
        "# Need to make new wavelets with the new sampling rate\n",
        "nfrex  =   40\n",
        "lofreq =    2   # Hz\n",
        "hifreq =   30   # Hz\n",
        "\n",
        "frex   = np.linspace(lofreq,hifreq,nfrex)\n",
        "fwhms  = np.linspace(1,.5,nfrex)\n",
        "\n",
        "wavtime = np.arange(-fs,fs+1)/fs\n",
        "npnts   = len(wavtime)\n",
        "\n",
        "waveletfam = np.zeros((nfrex,npnts),dtype=complex)\n",
        "for wi in range(nfrex):\n",
        "  waveletfam[wi,:] = createComplexWavelet(wavtime,frex[wi],fwhms[wi])\n",
        "\n",
        "\n",
        "# Plotting a few wavelets to make sure they look good\n",
        "for i in range(4):\n",
        "  plt.plot(wavtime,np.real(waveletfam[i*5,:]) + i*1.5)\n",
        "\n",
        "plt.xlabel('time (s)')\n",
        "plt.tick_params(labelleft=False) #labelbottom=False\n",
        "plt.show()"
      ],
      "metadata": {
        "id": "iiV1C54rBEg_"
      },
      "execution_count": null,
      "outputs": []
    },
    {
      "cell_type": "markdown",
      "source": [
        "# **Let's Create a time-frequency map**"
      ],
      "metadata": {
        "id": "F2KToSqtCACK"
      }
    },
    {
      "cell_type": "code",
      "source": [
        "# Initialize\n",
        "tf = np.zeros((nfrex,len(times)))\n",
        "\n",
        "# Looping over frequencies and repeating convolution\n",
        "for fi in range(nfrex):\n",
        "  convres = np.convolve(erp,waveletfam[fi,:],mode='same')\n",
        "  tf[fi,:] = np.abs(convres)\n",
        "\n",
        "# Plotting\n",
        "plt.imshow(tf,\n",
        "          aspect='auto',origin='lower',\n",
        "          extent=[times[0],times[-1],lofreq,hifreq],\n",
        "          vmin=0,vmax=100)\n",
        "\n",
        "plt.xlabel('Time (ms)')\n",
        "plt.ylabel('Frequency (Hz)')\n",
        "plt.show()"
      ],
      "metadata": {
        "id": "Qp4mqFzFCRi-"
      },
      "execution_count": null,
      "outputs": []
    }
  ]
}