{
  "nbformat": 4,
  "nbformat_minor": 0,
  "metadata": {
    "colab": {
      "provenance": [],
      "authorship_tag": "ABX9TyOo/txrvoD9FqWFBLOpsmEy",
      "include_colab_link": true
    },
    "kernelspec": {
      "name": "python3",
      "display_name": "Python 3"
    },
    "language_info": {
      "name": "python"
    }
  },
  "cells": [
    {
      "cell_type": "markdown",
      "metadata": {
        "id": "view-in-github",
        "colab_type": "text"
      },
      "source": [
        "<a href=\"https://colab.research.google.com/github/FahimS45/Python_mini_projects/blob/master/Statistical_Exploration_of_Quality_Factors.ipynb\" target=\"_parent\"><img src=\"https://colab.research.google.com/assets/colab-badge.svg\" alt=\"Open In Colab\"/></a>"
      ]
    },
    {
      "cell_type": "markdown",
      "source": [
        "# **A Statistical project regarding the analysis of Wine Quality**"
      ],
      "metadata": {
        "id": "31ooorQWj8ji"
      }
    },
    {
      "cell_type": "code",
      "execution_count": null,
      "metadata": {
        "id": "BThPTjxEiP9H"
      },
      "outputs": [],
      "source": [
        "# Importing all necessary modules\n",
        "import numpy as np\n",
        "import matplotlib.pyplot as plt\n",
        "import pandas as pd\n",
        "import seaborn as sns\n",
        "import scipy.stats as stats"
      ]
    },
    {
      "cell_type": "code",
      "source": [
        "# Downloading the \"Wine Quality\" dataset from UC Irvine Machine Learning Repository\n",
        "url = \"https://archive.ics.uci.edu/ml/machine-learning-databases/wine-quality/winequality-red.csv\"\n",
        "\n",
        "# Inspection\n",
        "data = pd.read_csv(url, sep=';')\n",
        "\n",
        "# print(data)"
      ],
      "metadata": {
        "id": "GjLD-qVMiyz-"
      },
      "execution_count": null,
      "outputs": []
    },
    {
      "cell_type": "markdown",
      "source": [
        "**Descriptive Statistics**"
      ],
      "metadata": {
        "id": "K2rdiCilmO1a"
      }
    },
    {
      "cell_type": "code",
      "source": [
        "# Describing the data\n",
        "data.describe()"
      ],
      "metadata": {
        "id": "oxMrkE7dlMSO"
      },
      "execution_count": null,
      "outputs": []
    },
    {
      "cell_type": "code",
      "source": [
        "# List number of unique values per column\n",
        "for i in data.keys():\n",
        "  print(f\"{i} has {len(np.unique(data[i]))} unique values\")"
      ],
      "metadata": {
        "id": "RNPZPndrlq_K"
      },
      "execution_count": null,
      "outputs": []
    },
    {
      "cell_type": "code",
      "source": [
        "# Ploting some data using matplotlib and seaborn\n",
        "fig,ax = plt.subplots(1,figsize=(17,4))\n",
        "ax = sns.boxplot(data=data)\n",
        "ax.set_xticklabels(ax.get_xticklabels(),rotation=45)\n",
        "plt.show()"
      ],
      "metadata": {
        "id": "siikqgd2mcNm"
      },
      "execution_count": null,
      "outputs": []
    },
    {
      "cell_type": "code",
      "source": [
        "# Removing rows with outliers\n",
        "data = data[data['total sulfur dioxide']<200]\n",
        "\n",
        "fig,ax = plt.subplots(1,figsize=(17,4))\n",
        "ax = sns.boxplot(data=data)\n",
        "ax.set_xticklabels(ax.get_xticklabels(),rotation=45)\n",
        "plt.show()"
      ],
      "metadata": {
        "id": "cLa_69vwmtsF"
      },
      "execution_count": null,
      "outputs": []
    },
    {
      "cell_type": "code",
      "source": [
        "# Some exploration\n",
        "sns.scatterplot(x=data['residual sugar'],y=data['alcohol'])\n",
        "plt.show()\n",
        "\n",
        "# Pairwise plots\n",
        "cols2plot = ['fixed acidity','volatile acidity','citric acid','quality']\n",
        "sns.pairplot(data[cols2plot],kind='reg',hue='quality')\n",
        "plt.show()"
      ],
      "metadata": {
        "id": "nsfRpxcsm_Jf"
      },
      "execution_count": null,
      "outputs": []
    }
  ]
}